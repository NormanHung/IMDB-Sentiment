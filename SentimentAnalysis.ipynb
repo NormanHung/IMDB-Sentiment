{
 "cells": [
  {
   "cell_type": "markdown",
   "metadata": {},
   "source": [
    "# IMDB Sentiment Using Neural Networks\n",
    "Collect the IMDB movie review datasets and use a deep learning model that will be trained and utilized to predict sentiment correctly"
   ]
  },
  {
   "cell_type": "markdown",
   "metadata": {},
   "source": [
    "## Load Data"
   ]
  },
  {
   "cell_type": "code",
   "execution_count": 1,
   "metadata": {},
   "outputs": [],
   "source": [
    "# import os\n",
    "# os.environ[\"CUDA_VISIBLE_DEVICES\"]=\"-1\"\n",
    "# import tensorflow as tf\n",
    "# tf.config.experimental.set_visible_devices([], 'GPU')\n",
    "import numpy as np\n",
    "import pandas as pd"
   ]
  },
  {
   "cell_type": "code",
   "execution_count": 2,
   "metadata": {},
   "outputs": [
    {
     "name": "stderr",
     "output_type": "stream",
     "text": [
      "Using TensorFlow backend.\n"
     ]
    }
   ],
   "source": [
    "from keras.datasets import imdb\n",
    "\n",
    "StartCharIndex = 1\n",
    "OOVCharIndex = 2\n",
    "WordIndexOffset = 3\n",
    "UniqueWordMax = None\n",
    "# UniqueWordMax = 5000 + WordIndexOffset - 1\n",
    "\n",
    "(TrainX, TrainY), (TestX, TestY) = imdb.load_data(path=\"imdb.npz\",\n",
    "                                                  num_words = UniqueWordMax,\n",
    "                                                  skip_top = 0,\n",
    "                                                  maxlen = None,\n",
    "                                                  seed = 13,\n",
    "                                                  start_char = StartCharIndex,\n",
    "                                                  oov_char = OOVCharIndex,\n",
    "                                                  index_from = WordIndexOffset,\n",
    "                                                 )"
   ]
  },
  {
   "cell_type": "code",
   "execution_count": 3,
   "metadata": {
    "scrolled": true
   },
   "outputs": [
    {
     "name": "stdout",
     "output_type": "stream",
     "text": [
      "(25000,)\n",
      "(25000,)\n"
     ]
    }
   ],
   "source": [
    "print(TrainX.shape)\n",
    "print(TrainY.shape)"
   ]
  },
  {
   "cell_type": "code",
   "execution_count": 4,
   "metadata": {},
   "outputs": [
    {
     "name": "stdout",
     "output_type": "stream",
     "text": [
      "(25000,)\n",
      "(25000,)\n"
     ]
    }
   ],
   "source": [
    "print(TestX.shape)\n",
    "print(TestY.shape)"
   ]
  },
  {
   "cell_type": "markdown",
   "metadata": {},
   "source": [
    "##### Merge datasets to get bigger training split"
   ]
  },
  {
   "cell_type": "code",
   "execution_count": 5,
   "metadata": {
    "scrolled": false
   },
   "outputs": [],
   "source": [
    "# TrainTestX = np.concatenate((TrainX, TestX), axis = 0)\n",
    "# print(TrainTestX.shape)"
   ]
  },
  {
   "cell_type": "code",
   "execution_count": 6,
   "metadata": {},
   "outputs": [],
   "source": [
    "# TrainTestY = np.concatenate((TrainY, TestY), axis = 0)\n",
    "# print(TrainTestY.shape)"
   ]
  },
  {
   "cell_type": "code",
   "execution_count": 7,
   "metadata": {},
   "outputs": [],
   "source": [
    "from sklearn.model_selection import train_test_split\n",
    "\n",
    "TrainX, TestX, TrainY, TestY = train_test_split(np.concatenate((TrainX, TestX), axis = 0),\n",
    "                                                np.concatenate((TrainY, TestY), axis = 0),\n",
    "                                               test_size = 0.2,\n",
    "                                               random_state = 13)"
   ]
  },
  {
   "cell_type": "code",
   "execution_count": 8,
   "metadata": {},
   "outputs": [
    {
     "name": "stdout",
     "output_type": "stream",
     "text": [
      "(40000,)\n",
      "(40000,)\n"
     ]
    }
   ],
   "source": [
    "print(TrainX.shape)\n",
    "print(TrainY.shape)"
   ]
  },
  {
   "cell_type": "code",
   "execution_count": 9,
   "metadata": {},
   "outputs": [
    {
     "name": "stdout",
     "output_type": "stream",
     "text": [
      "(10000,)\n",
      "(10000,)\n"
     ]
    }
   ],
   "source": [
    "print(TestX.shape)\n",
    "print(TestY.shape)"
   ]
  },
  {
   "cell_type": "markdown",
   "metadata": {},
   "source": [
    "## Data Processing"
   ]
  },
  {
   "cell_type": "code",
   "execution_count": 10,
   "metadata": {},
   "outputs": [],
   "source": [
    "import numpy as np\n",
    "import pandas as pd\n",
    "\n",
    "def GetArrayStats(ArrayData):\n",
    "    resultsData = pd.DataFrame()\n",
    "    resultsData = resultsData.append({\n",
    "        \"Stat\": \"Min\",\n",
    "        \"Value\": np.min(ArrayData),\n",
    "    }, ignore_index = True)\n",
    "    resultsData = resultsData.append({\n",
    "        \"Stat\": \"Max\",\n",
    "        \"Value\": np.max(ArrayData),\n",
    "    }, ignore_index = True)\n",
    "    resultsData = resultsData.append({\n",
    "        \"Stat\": \"Mean\",\n",
    "        \"Value\": np.mean(ArrayData),\n",
    "    }, ignore_index = True)\n",
    "    resultsData = resultsData.append({\n",
    "        \"Stat\": \"Median\",\n",
    "        \"Value\": np.median(ArrayData),\n",
    "    }, ignore_index = True)\n",
    "    resultsData = resultsData.append({\n",
    "        \"Stat\": \"Std Dev\",\n",
    "        \"Value\": np.std(ArrayData),\n",
    "    }, ignore_index = True)\n",
    "    with pd.option_context(\"display.max_rows\", None, \"display.max_colwidth\", None):\n",
    "        print(resultsData)\n",
    "    return resultsData"
   ]
  },
  {
   "cell_type": "code",
   "execution_count": 11,
   "metadata": {},
   "outputs": [
    {
     "name": "stdout",
     "output_type": "stream",
     "text": [
      "      Stat     Value\n",
      "0      Min  0.000000\n",
      "1      Max  1.000000\n",
      "2     Mean  0.499525\n",
      "3   Median  0.000000\n",
      "4  Std Dev  0.500000\n",
      "      Stat     Value\n",
      "0      Min  0.000000\n",
      "1      Max  1.000000\n",
      "2     Mean  0.501900\n",
      "3   Median  1.000000\n",
      "4  Std Dev  0.499996\n"
     ]
    }
   ],
   "source": [
    "# Sentiments, positive and negative\n",
    "GetArrayStats(TrainY);\n",
    "GetArrayStats(TestY);"
   ]
  },
  {
   "cell_type": "code",
   "execution_count": 12,
   "metadata": {},
   "outputs": [
    {
     "name": "stdout",
     "output_type": "stream",
     "text": [
      "88586\n",
      "88584\n"
     ]
    }
   ],
   "source": [
    "print(np.max(np.hstack(TrainX)))\n",
    "print(np.max(np.hstack(TestX)))"
   ]
  },
  {
   "cell_type": "markdown",
   "metadata": {},
   "source": [
    "#### Reduce Training set parameters to words of significant number "
   ]
  },
  {
   "cell_type": "code",
   "execution_count": 13,
   "metadata": {},
   "outputs": [
    {
     "name": "stdout",
     "output_type": "stream",
     "text": [
      "4        533957\n",
      "5        259659\n",
      "6        258197\n",
      "7        231256\n",
      "8        214594\n",
      "          ...  \n",
      "68795         1\n",
      "76991         1\n",
      "52354         1\n",
      "60550         1\n",
      "72725         1\n",
      "Length: 82468, dtype: int64\n"
     ]
    }
   ],
   "source": [
    "# Note: Some words are unique to Test set after the split due to low inherent word count\n",
    "UniqueWordCounts = pd.Series(np.hstack(TrainX)).value_counts().drop([StartCharIndex, OOVCharIndex], axis = 0)\n",
    "print(UniqueWordCounts)"
   ]
  },
  {
   "cell_type": "code",
   "execution_count": 14,
   "metadata": {},
   "outputs": [
    {
     "name": "stdout",
     "output_type": "stream",
     "text": [
      "9355444\n"
     ]
    }
   ],
   "source": [
    "# Total count of words of potential interest\n",
    "print(UniqueWordCounts.sum())"
   ]
  },
  {
   "cell_type": "code",
   "execution_count": 15,
   "metadata": {},
   "outputs": [
    {
     "data": {
      "image/png": "[encoded data removed]",
      "text/plain": [
       "<Figure size 432x288 with 1 Axes>"
      ]
     },
     "metadata": {
      "needs_background": "light"
     },
     "output_type": "display_data"
    }
   ],
   "source": [
    "import matplotlib.pyplot as plt\n",
    "%matplotlib inline\n",
    "plt.scatter(UniqueWordCounts.index, UniqueWordCounts)\n",
    "plt.show()"
   ]
  },
  {
   "cell_type": "code",
   "execution_count": 16,
   "metadata": {},
   "outputs": [
    {
     "data": {
      "image/png": "[encoded data removed]",
      "text/plain": [
       "<Figure size 432x288 with 1 Axes>"
      ]
     },
     "metadata": {
      "needs_background": "light"
     },
     "output_type": "display_data"
    }
   ],
   "source": [
    "plt.scatter(UniqueWordCounts.index[:100], UniqueWordCounts[:100])\n",
    "plt.show()"
   ]
  },
  {
   "cell_type": "code",
   "execution_count": 17,
   "metadata": {},
   "outputs": [
    {
     "data": {
      "text/plain": [
       "4     533957\n",
       "5     259659\n",
       "6     258197\n",
       "7     231256\n",
       "8     214594\n",
       "9     169192\n",
       "10    162103\n",
       "11    149246\n",
       "12    126088\n",
       "13    123850\n",
       "14    120591\n",
       "15    109571\n",
       "dtype: int64"
      ]
     },
     "execution_count": 17,
     "metadata": {},
     "output_type": "execute_result"
    }
   ],
   "source": [
    "# Counts of word that occur more than 1% in the entire dataset\n",
    "import pandas as pd\n",
    "UniqueWordCounts.loc[UniqueWordCounts > (0.01 * UniqueWordCounts.sum())]"
   ]
  },
  {
   "cell_type": "code",
   "execution_count": 18,
   "metadata": {},
   "outputs": [
    {
     "name": "stdout",
     "output_type": "stream",
     "text": [
      "15\n"
     ]
    }
   ],
   "source": [
    "UniqueWordMax = np.max(UniqueWordCounts.loc[UniqueWordCounts > (0.01 * UniqueWordCounts.sum())].index)\n",
    "print(UniqueWordMax)"
   ]
  },
  {
   "cell_type": "code",
   "execution_count": 19,
   "metadata": {},
   "outputs": [
    {
     "data": {
      "text/plain": [
       "4"
      ]
     },
     "execution_count": 19,
     "metadata": {},
     "output_type": "execute_result"
    }
   ],
   "source": [
    "UniqueWordCounts.index.min()"
   ]
  },
  {
   "cell_type": "code",
   "execution_count": 20,
   "metadata": {},
   "outputs": [],
   "source": [
    "TrainX_Reduced = [[word for word in row if (word in range(UniqueWordCounts.index.min(), UniqueWordMax + 1))] for row in TrainX]"
   ]
  },
  {
   "cell_type": "code",
   "execution_count": 21,
   "metadata": {},
   "outputs": [
    {
     "data": {
      "text/plain": [
       "4     533957\n",
       "5     259659\n",
       "6     258197\n",
       "7     231256\n",
       "8     214594\n",
       "9     169192\n",
       "10    162103\n",
       "11    149246\n",
       "12    126088\n",
       "13    123850\n",
       "14    120591\n",
       "15    109571\n",
       "dtype: int64"
      ]
     },
     "execution_count": 21,
     "metadata": {},
     "output_type": "execute_result"
    }
   ],
   "source": [
    "pd.Series(np.hstack(TrainX_Reduced)).astype(\"int\").value_counts()"
   ]
  },
  {
   "cell_type": "markdown",
   "metadata": {},
   "source": [
    "### Pad/Truncate review text strings to uniform length"
   ]
  },
  {
   "cell_type": "markdown",
   "metadata": {},
   "source": [
    "#### Determine a row length cutoff"
   ]
  },
  {
   "cell_type": "code",
   "execution_count": 22,
   "metadata": {},
   "outputs": [],
   "source": [
    "import matplotlib.pyplot as plt\n",
    "%matplotlib inline"
   ]
  },
  {
   "cell_type": "code",
   "execution_count": 23,
   "metadata": {},
   "outputs": [
    {
     "name": "stdout",
     "output_type": "stream",
     "text": [
      "1854\n"
     ]
    }
   ],
   "source": [
    "print(np.max([len(row) for row in TestX]))"
   ]
  },
  {
   "cell_type": "code",
   "execution_count": 24,
   "metadata": {},
   "outputs": [],
   "source": [
    "TrainX_RowLengths = [len(row) for row in TrainX_Reduced]"
   ]
  },
  {
   "cell_type": "code",
   "execution_count": 25,
   "metadata": {},
   "outputs": [
    {
     "data": {
      "image/png": "[encoded data removed]",
      "text/plain": [
       "<Figure size 432x288 with 1 Axes>"
      ]
     },
     "metadata": {
      "needs_background": "light"
     },
     "output_type": "display_data"
    }
   ],
   "source": [
    "plt.close(\"all\")\n",
    "plt.hist(TrainX_RowLengths, bins = 100)\n",
    "plt.show()"
   ]
  },
  {
   "cell_type": "code",
   "execution_count": 26,
   "metadata": {},
   "outputs": [
    {
     "name": "stdout",
     "output_type": "stream",
     "text": [
      "686\n"
     ]
    }
   ],
   "source": [
    "print(np.max(TrainX_RowLengths))"
   ]
  },
  {
   "cell_type": "code",
   "execution_count": 27,
   "metadata": {},
   "outputs": [
    {
     "data": {
      "image/png": "[encoded data removed]",
      "text/plain": [
       "<Figure size 432x288 with 1 Axes>"
      ]
     },
     "metadata": {
      "needs_background": "light"
     },
     "output_type": "display_data"
    }
   ],
   "source": [
    "import matplotlib.pyplot as plt\n",
    "%matplotlib inline\n",
    "\n",
    "plt.close(\"all\")\n",
    "plt.hist([len(row) for row in TrainX_Reduced if (len(row) > 300)], bins = 100)\n",
    "plt.show()"
   ]
  },
  {
   "cell_type": "code",
   "execution_count": 28,
   "metadata": {},
   "outputs": [
    {
     "data": {
      "text/plain": [
       "25"
      ]
     },
     "execution_count": 28,
     "metadata": {},
     "output_type": "execute_result"
    }
   ],
   "source": [
    "len([len(row) for row in TrainX_Reduced if (len(row) > 300)])"
   ]
  },
  {
   "cell_type": "code",
   "execution_count": 29,
   "metadata": {},
   "outputs": [
    {
     "data": {
      "text/plain": [
       "0.000625"
      ]
     },
     "execution_count": 29,
     "metadata": {},
     "output_type": "execute_result"
    }
   ],
   "source": [
    "len([len(row) for row in TrainX_Reduced if (len(row) > 300)]) / len(TrainX_Reduced)"
   ]
  },
  {
   "cell_type": "code",
   "execution_count": 30,
   "metadata": {},
   "outputs": [
    {
     "data": {
      "text/plain": [
       "1854"
      ]
     },
     "execution_count": 30,
     "metadata": {},
     "output_type": "execute_result"
    }
   ],
   "source": [
    "# ReviewTextLengthMax = int(np.median([len(row) - 1 for row in TrainTestX]) + 3 * np.std([len(row) - 1 for row in TrainTestX]))\n",
    "# ReviewTextLengthMax = np.max(TrainX_RowLengths)\n",
    "ReviewTextLengthMax = np.max([len(row) for row in TestX]) # Test dataset has extra words which increases input size\n",
    "ReviewTextLengthMax"
   ]
  },
  {
   "cell_type": "markdown",
   "metadata": {},
   "source": [
    "#### Pad short rows and truncate longer rows"
   ]
  },
  {
   "cell_type": "code",
   "execution_count": 90,
   "metadata": {},
   "outputs": [],
   "source": [
    "from keras.preprocessing import sequence\n",
    "FillCharIndex = 0\n",
    "TrainData = sequence.pad_sequences(TrainX_Reduced, maxlen = 500, value = FillCharIndex, padding = \"post\")\n",
    "TrainTarget = TrainY\n",
    "TestData = sequence.pad_sequences(TestX, maxlen = 500, value = FillCharIndex, padding = \"post\")\n",
    "TestTarget = TestY"
   ]
  },
  {
   "cell_type": "code",
   "execution_count": 91,
   "metadata": {
    "scrolled": true
   },
   "outputs": [
    {
     "name": "stdout",
     "output_type": "stream",
     "text": [
      "(40000, 500)\n",
      "[[14 15  4 ...  0  0  0]\n",
      " [ 5 14  6 ...  0  0  0]\n",
      " [14  9  7 ...  0  0  0]\n",
      " ...\n",
      " [12  4  7 ...  0  0  0]\n",
      " [14  8 13 ...  0  0  0]\n",
      " [13  6 13 ...  0  0  0]]\n",
      "\n",
      "(40000,)\n",
      "[1 1 1 ... 1 0 1]\n"
     ]
    }
   ],
   "source": [
    "print(TrainData.shape)\n",
    "print(TrainData)\n",
    "print(\"\")\n",
    "print(TrainTarget.shape)\n",
    "print(TrainTarget)"
   ]
  },
  {
   "cell_type": "code",
   "execution_count": 92,
   "metadata": {
    "scrolled": true
   },
   "outputs": [
    {
     "name": "stdout",
     "output_type": "stream",
     "text": [
      "(10000, 500)\n",
      "[[   1 4922 9519 ...    0    0    0]\n",
      " [   1   14    9 ...    0    0    0]\n",
      " [   1   50   26 ...    0    0    0]\n",
      " ...\n",
      " [   1   92   79 ...    0    0    0]\n",
      " [   1  137  149 ...    0    0    0]\n",
      " [   1   50   16 ...    0    0    0]]\n",
      "\n",
      "(10000,)\n",
      "[0 1 0 ... 0 1 1]\n"
     ]
    }
   ],
   "source": [
    "print(TestData.shape)\n",
    "print(TestData)\n",
    "print(\"\")\n",
    "print(TestTarget.shape)\n",
    "print(TestTarget)"
   ]
  },
  {
   "cell_type": "markdown",
   "metadata": {},
   "source": [
    "## Setup Neural Network"
   ]
  },
  {
   "cell_type": "code",
   "execution_count": 93,
   "metadata": {},
   "outputs": [
    {
     "name": "stdout",
     "output_type": "stream",
     "text": [
      "(1, 500)\n",
      "500\n"
     ]
    }
   ],
   "source": [
    "InputShape = (1, TestData.shape[1])\n",
    "InputSize = TestData.shape[1]\n",
    "print(InputShape)\n",
    "print(InputSize)\n",
    "InputUnitsCount = 32\n",
    "# InputUnitsCount = UniqueWordMax\n",
    "BatchSize = 256\n",
    "KernelSize = 4\n",
    "PoolSize = 2\n",
    "Filters = 64\n",
    "HiddenUnitsCount = 128\n",
    "DropoutRate = 0.2\n",
    "LabelCount = 1"
   ]
  },
  {
   "cell_type": "markdown",
   "metadata": {},
   "source": [
    "## Run network models and determine accuracy"
   ]
  },
  {
   "cell_type": "code",
   "execution_count": 45,
   "metadata": {},
   "outputs": [],
   "source": [
    "import keras\n",
    "from sklearn.metrics import accuracy_score, recall_score, precision_score, f1_score, confusion_matrix"
   ]
  },
  {
   "cell_type": "markdown",
   "metadata": {},
   "source": [
    "### Simple RNN"
   ]
  },
  {
   "cell_type": "code",
   "execution_count": 94,
   "metadata": {},
   "outputs": [],
   "source": [
    "import keras\n",
    "from keras.models import Sequential\n",
    "from keras.layers import Dense, Dropout, Activation, Embedding\n",
    "from keras.layers import SimpleRNN\n",
    "from keras.optimizers import SGD#, RMSprop, Adam\n",
    "\n",
    "\n",
    "def CreateRNN():\n",
    "    keras.backend.clear_session()\n",
    "    model = Sequential()\n",
    "    # Input Layer\n",
    "    model.add(Embedding(UniqueWordMax, InputUnitsCount, input_length = InputSize))\n",
    "    model.add(SimpleRNN(units = HiddenUnitsCount, dropout = DropoutRate, input_shape = InputShape))\n",
    "    # Output Layer\n",
    "    model.add(Dense(LabelCount))\n",
    "    model.add(Activation(\"sigmoid\"))\n",
    "    \n",
    "    model.compile(loss = \"binary_crossentropy\",\n",
    "                 optimizer = SGD(),\n",
    "                 metrics = [\"accuracy\"])\n",
    "    return model"
   ]
  },
  {
   "cell_type": "code",
   "execution_count": 95,
   "metadata": {
    "scrolled": true
   },
   "outputs": [
    {
     "name": "stdout",
     "output_type": "stream",
     "text": [
      "Model: \"sequential_1\"\n",
      "_________________________________________________________________\n",
      "Layer (type)                 Output Shape              Param #   \n",
      "=================================================================\n",
      "embedding_1 (Embedding)      (None, 500, 32)           480       \n",
      "_________________________________________________________________\n",
      "simple_rnn_1 (SimpleRNN)     (None, 128)               20608     \n",
      "_________________________________________________________________\n",
      "dense_1 (Dense)              (None, 1)                 129       \n",
      "_________________________________________________________________\n",
      "activation_1 (Activation)    (None, 1)                 0         \n",
      "=================================================================\n",
      "Total params: 21,217\n",
      "Trainable params: 21,217\n",
      "Non-trainable params: 0\n",
      "_________________________________________________________________\n"
     ]
    }
   ],
   "source": [
    "model = CreateRNN()\n",
    "model.summary()"
   ]
  },
  {
   "cell_type": "code",
   "execution_count": 96,
   "metadata": {
    "scrolled": false
   },
   "outputs": [
    {
     "name": "stderr",
     "output_type": "stream",
     "text": [
      "C:\\ProgramData\\Anaconda3\\envs\\DataScience\\lib\\site-packages\\tensorflow_core\\python\\framework\\indexed_slices.py:433: UserWarning: Converting sparse IndexedSlices to a dense Tensor of unknown shape. This may consume a large amount of memory.\n",
      "  \"Converting sparse IndexedSlices to a dense Tensor of unknown shape. \"\n"
     ]
    },
    {
     "name": "stdout",
     "output_type": "stream",
     "text": [
      "Epoch 1/15\n",
      " - 29s - loss: 0.6936 - accuracy: 0.4985\n",
      "Epoch 2/15\n",
      " - 29s - loss: 0.6935 - accuracy: 0.4960\n",
      "Epoch 3/15\n",
      " - 29s - loss: 0.6932 - accuracy: 0.5037\n",
      "Epoch 4/15\n",
      " - 29s - loss: 0.6932 - accuracy: 0.5070\n",
      "Epoch 5/15\n",
      " - 29s - loss: 0.6931 - accuracy: 0.5044\n",
      "Epoch 6/15\n",
      " - 29s - loss: 0.6932 - accuracy: 0.5043\n",
      "Epoch 7/15\n",
      " - 29s - loss: 0.6931 - accuracy: 0.5051\n",
      "Epoch 8/15\n",
      " - 29s - loss: 0.6931 - accuracy: 0.5038\n",
      "Epoch 9/15\n",
      " - 29s - loss: 0.6932 - accuracy: 0.5031\n",
      "Epoch 10/15\n",
      " - 29s - loss: 0.6932 - accuracy: 0.5028\n",
      "Epoch 11/15\n",
      " - 29s - loss: 0.6932 - accuracy: 0.5003\n",
      "Epoch 12/15\n",
      " - 29s - loss: 0.6933 - accuracy: 0.5010\n",
      "Epoch 13/15\n",
      " - 28s - loss: 0.6932 - accuracy: 0.5032\n",
      "Epoch 14/15\n",
      " - 28s - loss: 0.6932 - accuracy: 0.5021\n",
      "Epoch 15/15\n",
      " - 29s - loss: 0.6934 - accuracy: 0.5006\n"
     ]
    },
    {
     "data": {
      "text/plain": [
       "<keras.callbacks.callbacks.History at 0x23bec19c148>"
      ]
     },
     "execution_count": 96,
     "metadata": {},
     "output_type": "execute_result"
    }
   ],
   "source": [
    "model.fit(TrainData, TrainTarget, epochs = 15, batch_size = BatchSize, verbose = 2)"
   ]
  },
  {
   "cell_type": "code",
   "execution_count": 97,
   "metadata": {},
   "outputs": [],
   "source": [
    "TestPredictions = model.predict(TestData)"
   ]
  },
  {
   "cell_type": "code",
   "execution_count": 98,
   "metadata": {},
   "outputs": [
    {
     "data": {
      "text/plain": [
       "array([[0.5012448 ],\n",
       "       [0.503517  ],\n",
       "       [0.4899367 ],\n",
       "       ...,\n",
       "       [0.5030724 ],\n",
       "       [0.49427074],\n",
       "       [0.50504714]], dtype=float32)"
      ]
     },
     "execution_count": 98,
     "metadata": {},
     "output_type": "execute_result"
    }
   ],
   "source": [
    "TestPredictions"
   ]
  },
  {
   "cell_type": "code",
   "execution_count": 99,
   "metadata": {},
   "outputs": [
    {
     "name": "stdout",
     "output_type": "stream",
     "text": [
      "      Stat     Value\n",
      "0      Min  0.000000\n",
      "1      Max  1.000000\n",
      "2     Mean  0.501900\n",
      "3   Median  1.000000\n",
      "4  Std Dev  0.499996\n",
      "      Stat     Value\n",
      "0      Min  0.403597\n",
      "1      Max  0.588276\n",
      "2     Mean  0.497415\n",
      "3   Median  0.497367\n",
      "4  Std Dev  0.010218\n"
     ]
    }
   ],
   "source": [
    "GetArrayStats([TestTarget]);\n",
    "GetArrayStats([TestPredictions]);"
   ]
  },
  {
   "cell_type": "code",
   "execution_count": 100,
   "metadata": {},
   "outputs": [
    {
     "data": {
      "text/plain": [
       "array([0, 1, 0, 1, 0, 0, 1, 1, 1, 1, 0, 0, 1, 0, 0, 0, 1, 1, 0, 0],\n",
       "      dtype=int64)"
      ]
     },
     "execution_count": 100,
     "metadata": {},
     "output_type": "execute_result"
    }
   ],
   "source": [
    "TestTarget[:20]"
   ]
  },
  {
   "cell_type": "code",
   "execution_count": 101,
   "metadata": {},
   "outputs": [
    {
     "data": {
      "text/plain": [
       "array([1, 1, 0, 0, 0, 0, 0, 0, 0, 0, 0, 0, 0, 0, 1, 0, 0, 1, 0, 0])"
      ]
     },
     "execution_count": 101,
     "metadata": {},
     "output_type": "execute_result"
    }
   ],
   "source": [
    "(TestPredictions.reshape(-1, ) >= 0.5).astype(int)[:20]"
   ]
  },
  {
   "cell_type": "code",
   "execution_count": 102,
   "metadata": {},
   "outputs": [
    {
     "data": {
      "text/plain": [
       "0.5039"
      ]
     },
     "execution_count": 102,
     "metadata": {},
     "output_type": "execute_result"
    }
   ],
   "source": [
    "accuracy_score(TestTarget, (TestPredictions >= 0.5).astype(int))"
   ]
  },
  {
   "cell_type": "markdown",
   "metadata": {},
   "source": [
    "### Simple LSTM"
   ]
  },
  {
   "cell_type": "code",
   "execution_count": 103,
   "metadata": {},
   "outputs": [
    {
     "name": "stdout",
     "output_type": "stream",
     "text": [
      "(1, 500)\n",
      "500\n"
     ]
    }
   ],
   "source": [
    "InputShape = (1, TrainData.shape[1])\n",
    "InputSize = TrainData.shape[1]\n",
    "print(InputShape)\n",
    "print(InputSize)\n",
    "BatchSize = 128\n",
    "KernelSize = 4\n",
    "PoolSize = 2\n",
    "Filters = 64\n",
    "HiddenUnitsCount = 256\n",
    "DropoutRate = 0.2\n",
    "LabelCount = 1"
   ]
  },
  {
   "cell_type": "code",
   "execution_count": 104,
   "metadata": {},
   "outputs": [],
   "source": [
    "import keras\n",
    "from keras.models import Sequential\n",
    "from keras.layers import Dense, Dropout, Activation, Embedding\n",
    "from keras.layers import LSTM\n",
    "#from keras.layers import Conv2D, MaxPool2D, Flatten\n",
    "from keras.layers import Conv1D, MaxPool1D, Flatten\n",
    "from keras.optimizers import SGD, RMSprop, Adam\n",
    "import gc\n",
    "\n",
    "def CreateLSTM():\n",
    "    keras.backend.clear_session()\n",
    "    gc.collect()\n",
    "    \n",
    "    model = Sequential()\n",
    "    # Input Layer\n",
    "    model.add(Embedding(UniqueWordMax, 32, input_length = InputSize))\n",
    "#     model.add(LSTM(units = HiddenUnitsCount, dropout = DropoutRate, input_shape = InputShape, return_sequences = True))\n",
    "#     model.add(Activation(\"softmax\"))\n",
    "    model.add(LSTM(units = HiddenUnitsCount, dropout = DropoutRate, input_shape = InputShape))\n",
    "    model.add(Activation(\"softmax\"))\n",
    "#     model.add(LSTM(100))\n",
    "#     model.add(Dropout(DropoutRate))\n",
    "#     model.add(Activation(\"relu\"))\n",
    "    # Hidden Layer\n",
    "#     model.add(Dense(800))\n",
    "#     model.add(LSTM(10))\n",
    "#     model.add(Dropout(DropoutRate))\n",
    "#     model.add(Activation(\"relu\"))\n",
    "    # Output Layer\n",
    "    model.add(Dense(LabelCount))\n",
    "    model.add(Activation(\"sigmoid\"))\n",
    "    \n",
    "    model.compile(loss = \"binary_crossentropy\",\n",
    "                 optimizer = Adam(),\n",
    "                 metrics = [\"accuracy\"])\n",
    "    return model"
   ]
  },
  {
   "cell_type": "code",
   "execution_count": 105,
   "metadata": {},
   "outputs": [
    {
     "name": "stdout",
     "output_type": "stream",
     "text": [
      "Model: \"sequential_1\"\n",
      "_________________________________________________________________\n",
      "Layer (type)                 Output Shape              Param #   \n",
      "=================================================================\n",
      "embedding_1 (Embedding)      (None, 500, 32)           480       \n",
      "_________________________________________________________________\n",
      "lstm_1 (LSTM)                (None, 256)               295936    \n",
      "_________________________________________________________________\n",
      "activation_1 (Activation)    (None, 256)               0         \n",
      "_________________________________________________________________\n",
      "dense_1 (Dense)              (None, 1)                 257       \n",
      "_________________________________________________________________\n",
      "activation_2 (Activation)    (None, 1)                 0         \n",
      "=================================================================\n",
      "Total params: 296,673\n",
      "Trainable params: 296,673\n",
      "Non-trainable params: 0\n",
      "_________________________________________________________________\n"
     ]
    }
   ],
   "source": [
    "model = CreateLSTM()\n",
    "model.summary()"
   ]
  },
  {
   "cell_type": "code",
   "execution_count": 106,
   "metadata": {
    "scrolled": false
   },
   "outputs": [
    {
     "name": "stderr",
     "output_type": "stream",
     "text": [
      "C:\\ProgramData\\Anaconda3\\envs\\DataScience\\lib\\site-packages\\tensorflow_core\\python\\framework\\indexed_slices.py:433: UserWarning: Converting sparse IndexedSlices to a dense Tensor of unknown shape. This may consume a large amount of memory.\n",
      "  \"Converting sparse IndexedSlices to a dense Tensor of unknown shape. \"\n"
     ]
    },
    {
     "name": "stdout",
     "output_type": "stream",
     "text": [
      "Epoch 1/15\n",
      " - 92s - loss: 0.6932 - accuracy: 0.4986\n",
      "Epoch 2/15\n",
      " - 91s - loss: 0.6932 - accuracy: 0.4968\n",
      "Epoch 3/15\n",
      " - 91s - loss: 0.6932 - accuracy: 0.4964\n",
      "Epoch 4/15\n",
      " - 91s - loss: 0.6932 - accuracy: 0.4971\n",
      "Epoch 5/15\n",
      " - 91s - loss: 0.6932 - accuracy: 0.4952\n",
      "Epoch 6/15\n",
      " - 91s - loss: 0.6932 - accuracy: 0.4950\n",
      "Epoch 7/15\n",
      " - 91s - loss: 0.6932 - accuracy: 0.5004\n",
      "Epoch 8/15\n",
      " - 92s - loss: 0.6932 - accuracy: 0.4963\n",
      "Epoch 9/15\n",
      " - 91s - loss: 0.6932 - accuracy: 0.4994\n",
      "Epoch 10/15\n",
      " - 92s - loss: 0.6932 - accuracy: 0.4982\n",
      "Epoch 11/15\n",
      " - 92s - loss: 0.6932 - accuracy: 0.4986\n",
      "Epoch 12/15\n",
      " - 92s - loss: 0.6932 - accuracy: 0.4983\n",
      "Epoch 13/15\n",
      " - 91s - loss: 0.6932 - accuracy: 0.4983\n",
      "Epoch 14/15\n",
      " - 91s - loss: 0.6932 - accuracy: 0.4999\n",
      "Epoch 15/15\n",
      " - 91s - loss: 0.6932 - accuracy: 0.5034\n"
     ]
    },
    {
     "data": {
      "text/plain": [
       "<keras.callbacks.callbacks.History at 0x23d1d59aa88>"
      ]
     },
     "execution_count": 106,
     "metadata": {},
     "output_type": "execute_result"
    }
   ],
   "source": [
    "model.fit(TrainData, TrainTarget, epochs = 15, batch_size = BatchSize, verbose = 2)"
   ]
  },
  {
   "cell_type": "code",
   "execution_count": 114,
   "metadata": {},
   "outputs": [],
   "source": [
    "TestPredictions = model.predict(TestData)"
   ]
  },
  {
   "cell_type": "code",
   "execution_count": 115,
   "metadata": {},
   "outputs": [
    {
     "data": {
      "text/plain": [
       "array([[0.4952852],\n",
       "       [0.4952852],\n",
       "       [0.4952852],\n",
       "       ...,\n",
       "       [0.4952852],\n",
       "       [0.4952852],\n",
       "       [0.4952852]], dtype=float32)"
      ]
     },
     "execution_count": 115,
     "metadata": {},
     "output_type": "execute_result"
    }
   ],
   "source": [
    "TestPredictions"
   ]
  },
  {
   "cell_type": "code",
   "execution_count": 116,
   "metadata": {},
   "outputs": [
    {
     "name": "stdout",
     "output_type": "stream",
     "text": [
      "      Stat     Value\n",
      "0      Min  0.000000\n",
      "1      Max  1.000000\n",
      "2     Mean  0.501900\n",
      "3   Median  1.000000\n",
      "4  Std Dev  0.499996\n",
      "      Stat         Value\n",
      "0      Min  4.952769e-01\n",
      "1      Max  4.952954e-01\n",
      "2     Mean  4.952852e-01\n",
      "3   Median  4.952852e-01\n",
      "4  Std Dev  4.708417e-07\n"
     ]
    }
   ],
   "source": [
    "GetArrayStats([TestTarget]);\n",
    "GetArrayStats([TestPredictions]);"
   ]
  },
  {
   "cell_type": "code",
   "execution_count": 117,
   "metadata": {},
   "outputs": [
    {
     "data": {
      "text/plain": [
       "array([0, 0, 0, 0, 0, 0, 0, 0, 0, 0, 0, 0, 0, 0, 0, 0, 0, 0, 0, 0])"
      ]
     },
     "execution_count": 117,
     "metadata": {},
     "output_type": "execute_result"
    }
   ],
   "source": [
    "(TestPredictions.reshape(-1, ) >= 0.5).astype(int)[:20]"
   ]
  },
  {
   "cell_type": "code",
   "execution_count": 118,
   "metadata": {},
   "outputs": [
    {
     "data": {
      "text/plain": [
       "array([0, 1, 0, 1, 0, 0, 1, 1, 1, 1, 0, 0, 1, 0, 0, 0, 1, 1, 0, 0],\n",
       "      dtype=int64)"
      ]
     },
     "execution_count": 118,
     "metadata": {},
     "output_type": "execute_result"
    }
   ],
   "source": [
    "TestTarget[:20]"
   ]
  },
  {
   "cell_type": "code",
   "execution_count": 119,
   "metadata": {},
   "outputs": [
    {
     "data": {
      "text/plain": [
       "0.4981"
      ]
     },
     "execution_count": 119,
     "metadata": {},
     "output_type": "execute_result"
    }
   ],
   "source": [
    "accuracy_score(TestTarget, (TestPredictions >= 0.5).astype(int))"
   ]
  },
  {
   "cell_type": "markdown",
   "metadata": {},
   "source": [
    "## Simple Multi Layer Perceptron"
   ]
  },
  {
   "cell_type": "code",
   "execution_count": 120,
   "metadata": {},
   "outputs": [],
   "source": [
    "import keras\n",
    "from keras.models import Sequential\n",
    "from keras.layers import Dense, Activation, Dropout, Embedding, Flatten\n",
    "from keras.optimizers import SGD, Adam\n",
    "\n",
    "# InputShape = (1, TrainX.shape[1])\n",
    "# InputSize = TrainX.shape[1]\n",
    "# print(\"InputShape: \" , InputShape)\n",
    "# print(\"InputSize: \", InputSize)\n",
    "# BatchSize = 128\n",
    "# HiddenUnitsCount = 128\n",
    "# KernelSize = 4\n",
    "# DropoutRate = 0.2\n",
    "# LabelCount = 1\n",
    "\n",
    "def CreateMLP():\n",
    "    keras.backend.clear_session()\n",
    "    model = Sequential()\n",
    "    \n",
    "    # Input layer\n",
    "    model.add(Dense(InputUnitsCount, input_dim = InputSize))\n",
    "#     model.add(Embedding(UniqueWordMax, 32, input_length = InputSize))\n",
    "#     model.add(Embedding(InputUnitsCount, 32, input_length = InputSize))\n",
    "#     model.add(Flatten())\n",
    "#     model.add(Dense(100))\n",
    "    model.add(Activation(\"relu\"))\n",
    "    # Hidden Layer 1\n",
    "    model.add(Dense(100))\n",
    "    model.add(Activation(\"relu\"))\n",
    "    \n",
    "    # Output layer\n",
    "    model.add(Dense(LabelCount, activation = \"sigmoid\"))\n",
    "    \n",
    "    model.compile(\n",
    "        loss = \"binary_crossentropy\",\n",
    "        optimizer = Adam(),\n",
    "        metrics = [\"accuracy\"]\n",
    "    )\n",
    "    \n",
    "    return model\n",
    "\n",
    "def CreateMLPWithEmbedding():\n",
    "    keras.backend.clear_session()\n",
    "    model = Sequential()\n",
    "    \n",
    "    # Input layer\n",
    "    model.add(Embedding(input_dim = UniqueWordMax, output_dim = InputUnitsCount, input_length = InputSize))\n",
    "#     model.add(Embedding(input_dim = InputSize, output_dim = KernelSize, input_length = InputSize))\n",
    "#     model.add(Embedding(input_dim = InputUnitsCount, output_dim = KernelSize, input_length = InputSize))\n",
    "    model.add(Flatten())\n",
    "    model.add(Dense(InputUnitsCount))\n",
    "#     model.add(Dense(InputSize))\n",
    "#    model.add(Dropout(DropoutRate))\n",
    "    model.add(Activation(\"relu\"))\n",
    "    # Hidden Layer 1\n",
    "    model.add(Dense(InputUnitsCount))\n",
    "#    model.add(Dropout(DropoutRate))\n",
    "    model.add(Activation(\"relu\"))\n",
    "    \n",
    "    # Output layer\n",
    "    model.add(Dense(LabelCount, activation = \"sigmoid\"))\n",
    "    \n",
    "    model.compile(\n",
    "        loss = \"binary_crossentropy\",\n",
    "        optimizer = Adam(),\n",
    "        metrics = [\"accuracy\"]\n",
    "    )\n",
    "    \n",
    "    return model"
   ]
  },
  {
   "cell_type": "code",
   "execution_count": 121,
   "metadata": {
    "scrolled": false
   },
   "outputs": [
    {
     "name": "stdout",
     "output_type": "stream",
     "text": [
      "Model: \"sequential_1\"\n",
      "_________________________________________________________________\n",
      "Layer (type)                 Output Shape              Param #   \n",
      "=================================================================\n",
      "embedding_1 (Embedding)      (None, 500, 32)           480       \n",
      "_________________________________________________________________\n",
      "flatten_1 (Flatten)          (None, 16000)             0         \n",
      "_________________________________________________________________\n",
      "dense_1 (Dense)              (None, 32)                512032    \n",
      "_________________________________________________________________\n",
      "activation_1 (Activation)    (None, 32)                0         \n",
      "_________________________________________________________________\n",
      "dense_2 (Dense)              (None, 32)                1056      \n",
      "_________________________________________________________________\n",
      "activation_2 (Activation)    (None, 32)                0         \n",
      "_________________________________________________________________\n",
      "dense_3 (Dense)              (None, 1)                 33        \n",
      "=================================================================\n",
      "Total params: 513,601\n",
      "Trainable params: 513,601\n",
      "Non-trainable params: 0\n",
      "_________________________________________________________________\n"
     ]
    }
   ],
   "source": [
    "model = CreateMLPWithEmbedding()\n",
    "model.summary()"
   ]
  },
  {
   "cell_type": "code",
   "execution_count": 122,
   "metadata": {
    "scrolled": false
   },
   "outputs": [
    {
     "name": "stderr",
     "output_type": "stream",
     "text": [
      "C:\\ProgramData\\Anaconda3\\envs\\DataScience\\lib\\site-packages\\tensorflow_core\\python\\framework\\indexed_slices.py:433: UserWarning: Converting sparse IndexedSlices to a dense Tensor of unknown shape. This may consume a large amount of memory.\n",
      "  \"Converting sparse IndexedSlices to a dense Tensor of unknown shape. \"\n"
     ]
    },
    {
     "name": "stdout",
     "output_type": "stream",
     "text": [
      "Epoch 1/15\n",
      " - 1s - loss: 0.6829 - accuracy: 0.5520\n",
      "Epoch 2/15\n",
      " - 1s - loss: 0.6624 - accuracy: 0.6021\n",
      "Epoch 3/15\n",
      " - 1s - loss: 0.6525 - accuracy: 0.6126\n",
      "Epoch 4/15\n",
      " - 1s - loss: 0.6365 - accuracy: 0.6276\n",
      "Epoch 5/15\n",
      " - 1s - loss: 0.6073 - accuracy: 0.6523\n",
      "Epoch 6/15\n",
      " - 1s - loss: 0.5636 - accuracy: 0.6868\n",
      "Epoch 7/15\n",
      " - 1s - loss: 0.5126 - accuracy: 0.7232\n",
      "Epoch 8/15\n",
      " - 1s - loss: 0.4656 - accuracy: 0.7552\n",
      "Epoch 9/15\n",
      " - 1s - loss: 0.4225 - accuracy: 0.7828\n",
      "Epoch 10/15\n",
      " - 1s - loss: 0.3866 - accuracy: 0.8043\n",
      "Epoch 11/15\n",
      " - 1s - loss: 0.3578 - accuracy: 0.8223\n",
      "Epoch 12/15\n",
      " - 1s - loss: 0.3306 - accuracy: 0.8393\n",
      "Epoch 13/15\n",
      " - 1s - loss: 0.3125 - accuracy: 0.8489\n",
      "Epoch 14/15\n",
      " - 1s - loss: 0.2949 - accuracy: 0.8593\n",
      "Epoch 15/15\n",
      " - 1s - loss: 0.2828 - accuracy: 0.8649\n"
     ]
    },
    {
     "data": {
      "text/plain": [
       "<keras.callbacks.callbacks.History at 0x23becd6df48>"
      ]
     },
     "execution_count": 122,
     "metadata": {},
     "output_type": "execute_result"
    }
   ],
   "source": [
    "model.fit(TrainData, TrainTarget, epochs = 15, batch_size = BatchSize, verbose = 2)"
   ]
  },
  {
   "cell_type": "code",
   "execution_count": 123,
   "metadata": {},
   "outputs": [],
   "source": [
    "TestPredictions = model.predict(TestData)"
   ]
  },
  {
   "cell_type": "code",
   "execution_count": 124,
   "metadata": {},
   "outputs": [
    {
     "data": {
      "text/plain": [
       "array([[4.6406808e-01],\n",
       "       [9.9909389e-01],\n",
       "       [9.9997234e-01],\n",
       "       ...,\n",
       "       [9.2568254e-04],\n",
       "       [9.7834480e-01],\n",
       "       [3.8666424e-01]], dtype=float32)"
      ]
     },
     "execution_count": 124,
     "metadata": {},
     "output_type": "execute_result"
    }
   ],
   "source": [
    "TestPredictions"
   ]
  },
  {
   "cell_type": "code",
   "execution_count": 125,
   "metadata": {},
   "outputs": [
    {
     "name": "stdout",
     "output_type": "stream",
     "text": [
      "      Stat     Value\n",
      "0      Min  0.000000\n",
      "1      Max  1.000000\n",
      "2     Mean  0.501900\n",
      "3   Median  1.000000\n",
      "4  Std Dev  0.499996\n",
      "      Stat         Value\n",
      "0      Min  5.805830e-28\n",
      "1      Max  1.000000e+00\n",
      "2     Mean  4.478442e-01\n",
      "3   Median  3.329078e-01\n",
      "4  Std Dev  4.222013e-01\n"
     ]
    }
   ],
   "source": [
    "GetArrayStats([TestTarget]);\n",
    "GetArrayStats([TestPredictions]);"
   ]
  },
  {
   "cell_type": "code",
   "execution_count": 126,
   "metadata": {},
   "outputs": [
    {
     "data": {
      "text/plain": [
       "array([0, 1, 1, 0, 0, 1, 1, 0, 1, 1, 0, 0, 1, 0, 0, 0, 0, 1, 0, 1])"
      ]
     },
     "execution_count": 126,
     "metadata": {},
     "output_type": "execute_result"
    }
   ],
   "source": [
    "(TestPredictions.reshape(-1, ) >= 0.5).astype(int)[:20]"
   ]
  },
  {
   "cell_type": "code",
   "execution_count": 127,
   "metadata": {},
   "outputs": [
    {
     "data": {
      "text/plain": [
       "array([0, 1, 0, 1, 0, 0, 1, 1, 1, 1, 0, 0, 1, 0, 0, 0, 1, 1, 0, 0],\n",
       "      dtype=int64)"
      ]
     },
     "execution_count": 127,
     "metadata": {},
     "output_type": "execute_result"
    }
   ],
   "source": [
    "TestTarget[:20]"
   ]
  },
  {
   "cell_type": "code",
   "execution_count": 128,
   "metadata": {},
   "outputs": [
    {
     "data": {
      "text/plain": [
       "0.532"
      ]
     },
     "execution_count": 128,
     "metadata": {},
     "output_type": "execute_result"
    }
   ],
   "source": [
    "accuracy_score(TestTarget, (TestPredictions >= 0.5).astype(int))"
   ]
  },
  {
   "cell_type": "code",
   "execution_count": null,
   "metadata": {},
   "outputs": [],
   "source": []
  },
  {
   "cell_type": "code",
   "execution_count": null,
   "metadata": {},
   "outputs": [],
   "source": []
  }
 ],
 "metadata": {
  "kernelspec": {
   "display_name": "Python 3",
   "language": "python",
   "name": "python3"
  },
  "language_info": {
   "codemirror_mode": {
    "name": "ipython",
    "version": 3
   },
   "file_extension": ".py",
   "mimetype": "text/x-python",
   "name": "python",
   "nbconvert_exporter": "python",
   "pygments_lexer": "ipython3",
   "version": "3.7.6"
  }
 },
 "nbformat": 4,
 "nbformat_minor": 4
}
